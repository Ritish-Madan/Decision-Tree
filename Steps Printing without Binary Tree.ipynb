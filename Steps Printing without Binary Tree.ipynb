{
 "cells": [
  {
   "cell_type": "code",
   "execution_count": 3,
   "metadata": {},
   "outputs": [],
   "source": [
    "from sklearn import datasets\n",
    "import pandas as pd\n",
    "import numpy as np\n",
    "import math as ma\n",
    "import sys\n",
    "np.seterr(divide='ignore', invalid='ignore')\n",
    "iris = datasets.load_iris()"
   ]
  },
  {
   "cell_type": "code",
   "execution_count": 4,
   "metadata": {},
   "outputs": [
    {
     "name": "stdout",
     "output_type": "stream",
     "text": [
      "['setosa' 'versicolor' 'virginica']\n"
     ]
    }
   ],
   "source": [
    "df = pd.DataFrame(iris.data)\n",
    "bf = pd.DataFrame(iris.target)\n",
    "df.columns = iris.feature_names\n",
    "print(iris.target_names)"
   ]
  },
  {
   "cell_type": "code",
   "execution_count": 5,
   "metadata": {},
   "outputs": [],
   "source": [
    "def count(y):\n",
    "    y = np.array(y)\n",
    "    setosaCount = (y == 0).sum()\n",
    "    versicolorCount = (y == 1).sum()\n",
    "    virginicaCount = (y == 2).sum()\n",
    "    return setosaCount, versicolorCount, virginicaCount"
   ]
  },
  {
   "cell_type": "code",
   "execution_count": 6,
   "metadata": {},
   "outputs": [],
   "source": [
    "def entropy(y):\n",
    "    setosa, versicolor, virginica = count(y) #Count of individual flowers\n",
    "    total = setosa + versicolor + virginica #Total of every flower\n",
    "    d1 = setosa/total # Accuracy of each flower\n",
    "    d2 = versicolor/total #Accuracy\n",
    "    d3 = virginica/total #Accuracy\n",
    "    \n",
    "    returnValue = 0 #Initialized the return value\n",
    "    if(d1 != 0): #Condition to avoid error on log(0)\n",
    "        returnValue += d1 * ma.log(d1, 2) #Adding the entropy of each result\n",
    "    if(d2 != 0): #Condition to avoid error on log(0)\n",
    "        returnValue += d2 * ma.log(d2, 2) #Adding the entropy of each result\n",
    "    if(d3 != 0): #Condition to avoid error on log(0)\n",
    "        returnValue += d3 * ma.log(d3, 2) #Adding the entropy of each result\n",
    "    \n",
    "    return -returnValue #Totol Entropy Negative sign as per formula to make entropy positive"
   ]
  },
  {
   "cell_type": "code",
   "execution_count": 7,
   "metadata": {},
   "outputs": [],
   "source": [
    "def split(y1, y2, y):\n",
    "    p1 = len(y1) / len(y) #Getting accuracy of split 1\n",
    "    p2 = len(y2) / len(y) #Accuracy of split 2\n",
    "    \n",
    "    result = 0 #initialize the result variable with 0 which gives split info\n",
    "    if(p1 != 0): # Condition to avoid the log(0) error\n",
    "        result += p1 * ma.log(p1, 2) #Getting split info for each split and adding to var result\n",
    "    if(p2 != 0): # Condition to avoid the log(0) error\n",
    "        result += p2 * ma.log(p2, 2) #Getting split info for each split and adding to var result\n",
    "    return -result #returns the split info"
   ]
  },
  {
   "cell_type": "code",
   "execution_count": null,
   "metadata": {},
   "outputs": [],
   "source": []
  },
  {
   "cell_type": "code",
   "execution_count": 8,
   "metadata": {},
   "outputs": [],
   "source": [
    "def featureGain(x, y, feature):\n",
    "    data = np.array(x[feature]) # Creating numpy array of particular features\n",
    "    tempGain = -1000\n",
    "    splitValue = 0\n",
    "    for i in range(1, len(x)): #Iterating through all the feature values\n",
    "        midPoint = (data[i - 1] + data[i]) / 2 # Finding middle point of all the values\n",
    "        \n",
    "        #x_split_1 = data[data > midPoint] # Features greater than mid point\n",
    "        #x_split_2 = data[data <= midPoint] #Features less than or equal to mid-point\n",
    "        y_split_1 = y[x[feature] > midPoint] #Results of features greater than midPoint\n",
    "        y_split_2 = y[x[feature] <= midPoint] # Results of Features less than or equal to mid-point\n",
    "\n",
    "        finalEntropy = 0\n",
    "        initialEntropy = entropy(y) #Entropy of root node of each split\n",
    "        \n",
    "        entropy_1 = entropy(y_split_1) #Entropy of Split 1\n",
    "        entropy_2 = entropy(y_split_2) #Entropy of split 2\n",
    "        \n",
    "        finalEntropy += entropy_1 * len(y_split_1)/len(y)  \n",
    "        finalEntropy+= entropy_2 * len(y_split_2)/len(y)  \n",
    "        infoGain = initialEntropy - finalEntropy #Information Gain\n",
    "        splitInfo = split(y_split_1, y_split_2, y) #Getting the split Info\n",
    "        gainRatio = (infoGain / splitInfo) #Calculating Gain Ratio\n",
    "        \n",
    "        if(tempGain < gainRatio): #When we find new gain Ratio of new splid greater than previous split's gain ratio\n",
    "            tempGain = gainRatio #We update previous gain Ratio with better gain Ratio\n",
    "            splitValue = midPoint #We update the mid or split point with new one which gives better gain ratio\n",
    "    return tempGain, splitValue #Returning best gain ratio and split Value"
   ]
  },
  {
   "cell_type": "code",
   "execution_count": 36,
   "metadata": {},
   "outputs": [],
   "source": [
    "def dt(x, y, features, level):\n",
    "    leftFeatures = features.copy()\n",
    "    noFeatures = len(features) #Calculate number of Features\n",
    "    totalData = len(x)\n",
    "    setosa, versicolor, virginica = count(y) #Count of Individual flowers\n",
    "    \n",
    "    print(\"Level -->\", level) #As per desired output printing the depth of the recurssion\n",
    "    print(\"Count of Setosa --->\", setosa) #Count of Setosa at each Level\n",
    "    print(\"Count of versicolor --->\", versicolor) #Count of Versicolor at each level\n",
    "    print(\"Count of virginica --->\", virginica) #Count of virginica at each level\n",
    "    print(\"Current Entropy --->\", entropy(y)) #Total Entropy of each level\n",
    "    \n",
    "    if(setosa == totalData or versicolor == totalData or virginica == totalData or noFeatures == 0): #Coding of leaf Node\n",
    "        print(\"Leaf Node Reached\")\n",
    "        print()\n",
    "        return #Return when we reach the leaf node\n",
    "    else:\n",
    "        maxGain = -1 #When we do not reach the reaf node, we split so initialse the maximum gain\n",
    "    \n",
    "        split = 0 #Initializing the split value\n",
    "        indexValue = 0\n",
    "    \n",
    "        for i in features: #Iterating all the features to get maximum gain\n",
    "            tempGain, tempSplit = featureGain(x, y, i) #Getting best gain and split value for each feature\n",
    "            \n",
    "            if(maxGain < tempGain): #If the initial gain is less than new gain update the initial gain\n",
    "                maxGain = tempGain #Update the gain\n",
    "                split = tempSplit #Update the split value\n",
    "                featureSplit = i #Updating with best split feature\n",
    "                used = indexValue\n",
    "            indexValue += 1\n",
    "        leftFeatures.pop(used)\n",
    "        \n",
    "        print(\"Splitting on --->\", featureSplit, \"with the gain ratio of --->\", maxGain)\n",
    "        print()\n",
    "    \n",
    "    #After getting the best split value with maximum gain feature.\n",
    "    \n",
    "        x1 = x[x[featureSplit] > split] #When feture greater than the split value\n",
    "        x2 = x[x[featureSplit] <= split] #Features less than or equal to split value\n",
    "        y1 = y[x[featureSplit] > split] # Outcomes of features greater than split value\n",
    "        y2 = y[x[featureSplit] <= split] #Outcomes of features less than or euqal to split value\n",
    "    \n",
    "        dt(x1, y1, leftFeatures, level + 1) #Recurssion call\n",
    "        dt(x2, y2, leftFeatures, level + 1) #Recursion Call"
   ]
  },
  {
   "cell_type": "code",
   "execution_count": 37,
   "metadata": {
    "scrolled": false
   },
   "outputs": [
    {
     "name": "stdout",
     "output_type": "stream",
     "text": [
      "Level --> 0\n",
      "Count of Setosa ---> 50\n",
      "Count of versicolor ---> 50\n",
      "Count of virginica ---> 50\n",
      "Current Entropy ---> 1.584962500721156\n",
      "Splitting on ---> petal width (cm) with the gain ratio of ---> 0.6370087710606404\n",
      "\n",
      "Level --> 1\n",
      "Count of Setosa ---> 0\n",
      "Count of versicolor ---> 50\n",
      "Count of virginica ---> 50\n",
      "Current Entropy ---> 1.0\n",
      "Splitting on ---> petal length (cm) with the gain ratio of ---> 0.3516307826545361\n",
      "\n",
      "Level --> 2\n",
      "Count of Setosa ---> 0\n",
      "Count of versicolor ---> 6\n",
      "Count of virginica ---> 49\n",
      "Current Entropy ---> 0.4971677614160753\n",
      "Splitting on ---> sepal length (cm) with the gain ratio of ---> -0.04645514894622442\n",
      "\n",
      "Level --> 3\n",
      "Count of Setosa ---> 0\n",
      "Count of versicolor ---> 0\n",
      "Count of virginica ---> 1\n",
      "Current Entropy ---> -0.0\n",
      "Leaf Node Reached\n",
      "\n",
      "Level --> 3\n",
      "Count of Setosa ---> 0\n",
      "Count of versicolor ---> 6\n",
      "Count of virginica ---> 48\n",
      "Current Entropy ---> 0.5032583347756457\n",
      "Splitting on ---> sepal width (cm) with the gain ratio of ---> -0.047033973540076345\n",
      "\n",
      "Level --> 4\n",
      "Count of Setosa ---> 0\n",
      "Count of versicolor ---> 6\n",
      "Count of virginica ---> 47\n",
      "Current Entropy ---> 0.5095157180881824\n",
      "Leaf Node Reached\n",
      "\n",
      "Level --> 4\n",
      "Count of Setosa ---> 0\n",
      "Count of versicolor ---> 0\n",
      "Count of virginica ---> 1\n",
      "Current Entropy ---> -0.0\n",
      "Leaf Node Reached\n",
      "\n",
      "Level --> 2\n",
      "Count of Setosa ---> 0\n",
      "Count of versicolor ---> 44\n",
      "Count of virginica ---> 1\n",
      "Current Entropy ---> 0.1537421803287619\n",
      "Splitting on ---> sepal length (cm) with the gain ratio of ---> -0.017879820430941017\n",
      "\n",
      "Level --> 3\n",
      "Count of Setosa ---> 0\n",
      "Count of versicolor ---> 1\n",
      "Count of virginica ---> 0\n",
      "Current Entropy ---> -0.0\n",
      "Leaf Node Reached\n",
      "\n",
      "Level --> 3\n",
      "Count of Setosa ---> 0\n",
      "Count of versicolor ---> 43\n",
      "Count of virginica ---> 1\n",
      "Current Entropy ---> 0.15649106290570153\n",
      "Splitting on ---> sepal width (cm) with the gain ratio of ---> -0.021873624862644703\n",
      "\n",
      "Level --> 4\n",
      "Count of Setosa ---> 0\n",
      "Count of versicolor ---> 2\n",
      "Count of virginica ---> 0\n",
      "Current Entropy ---> -0.0\n",
      "Leaf Node Reached\n",
      "\n",
      "Level --> 4\n",
      "Count of Setosa ---> 0\n",
      "Count of versicolor ---> 41\n",
      "Count of virginica ---> 1\n",
      "Current Entropy ---> 0.1623261801753929\n",
      "Leaf Node Reached\n",
      "\n",
      "Level --> 1\n",
      "Count of Setosa ---> 50\n",
      "Count of versicolor ---> 0\n",
      "Count of virginica ---> 0\n",
      "Current Entropy ---> -0.0\n",
      "Leaf Node Reached\n",
      "\n"
     ]
    }
   ],
   "source": [
    "dt(df, bf, list(df.columns), 0)"
   ]
  },
  {
   "cell_type": "code",
   "execution_count": 31,
   "metadata": {},
   "outputs": [
    {
     "data": {
      "text/plain": [
       "[1, 2, 45]"
      ]
     },
     "execution_count": 31,
     "metadata": {},
     "output_type": "execute_result"
    }
   ],
   "source": [
    "a = [1,2,45]\n",
    "b = a.copy()\n",
    "b.pop(2)\n",
    "a"
   ]
  }
 ],
 "metadata": {
  "kernelspec": {
   "display_name": "Python 3",
   "language": "python",
   "name": "python3"
  },
  "language_info": {
   "codemirror_mode": {
    "name": "ipython",
    "version": 3
   },
   "file_extension": ".py",
   "mimetype": "text/x-python",
   "name": "python",
   "nbconvert_exporter": "python",
   "pygments_lexer": "ipython3",
   "version": "3.7.4"
  }
 },
 "nbformat": 4,
 "nbformat_minor": 2
}
